{
 "cells": [
  {
   "cell_type": "code",
   "execution_count": null,
   "metadata": {},
   "outputs": [],
   "source": [
    "pip install tensorflow"
   ]
  },
  {
   "cell_type": "code",
   "execution_count": 1,
   "metadata": {},
   "outputs": [
    {
     "ename": "ModuleNotFoundError",
     "evalue": "No module named 'tensorflow'",
     "output_type": "error",
     "traceback": [
      "\u001b[1;31m---------------------------------------------------------------------------\u001b[0m",
      "\u001b[1;31mModuleNotFoundError\u001b[0m                       Traceback (most recent call last)",
      "\u001b[1;32m<ipython-input-1-3e35eeb4c09b>\u001b[0m in \u001b[0;36m<module>\u001b[1;34m\u001b[0m\n\u001b[0;32m      6\u001b[0m \u001b[1;32mfrom\u001b[0m \u001b[0msklearn\u001b[0m\u001b[1;33m.\u001b[0m\u001b[0mpreprocessing\u001b[0m \u001b[1;32mimport\u001b[0m \u001b[0mminmax_scale\u001b[0m\u001b[1;33m\u001b[0m\u001b[1;33m\u001b[0m\u001b[0m\n\u001b[0;32m      7\u001b[0m \u001b[1;32mfrom\u001b[0m \u001b[0msklearn\u001b[0m\u001b[1;33m.\u001b[0m\u001b[0mensemble\u001b[0m \u001b[1;32mimport\u001b[0m \u001b[0mAdaBoostClassifier\u001b[0m\u001b[1;33m\u001b[0m\u001b[1;33m\u001b[0m\u001b[0m\n\u001b[1;32m----> 8\u001b[1;33m \u001b[1;32mimport\u001b[0m \u001b[0mtensorflow\u001b[0m \u001b[1;32mas\u001b[0m \u001b[0mtf\u001b[0m\u001b[1;33m\u001b[0m\u001b[1;33m\u001b[0m\u001b[0m\n\u001b[0m\u001b[0;32m      9\u001b[0m \u001b[1;32mimport\u001b[0m \u001b[0mmatplotlib\u001b[0m\u001b[1;33m.\u001b[0m\u001b[0mpyplot\u001b[0m \u001b[1;32mas\u001b[0m \u001b[0mplt\u001b[0m\u001b[1;33m\u001b[0m\u001b[1;33m\u001b[0m\u001b[0m\n",
      "\u001b[1;31mModuleNotFoundError\u001b[0m: No module named 'tensorflow'"
     ]
    }
   ],
   "source": [
    "import pandas as pd \n",
    "import numpy as np \n",
    "from sklearn.svm import SVC\n",
    "import sklearn.model_selection as model_selection\n",
    "from sklearn.metrics import accuracy_score\n",
    "from sklearn.preprocessing import minmax_scale\n",
    "from sklearn.ensemble import AdaBoostClassifier\n",
    "import tensorflow as tf\n",
    "import matplotlib.pyplot as plt"
   ]
  },
  {
   "cell_type": "code",
   "execution_count": 29,
   "metadata": {},
   "outputs": [],
   "source": [
    "dataset = np.load(\"array_dataset.npy\")"
   ]
  },
  {
   "cell_type": "code",
   "execution_count": 30,
   "metadata": {},
   "outputs": [],
   "source": [
    "y = np.load(\"array_labels.npy\")"
   ]
  },
  {
   "cell_type": "code",
   "execution_count": null,
   "metadata": {},
   "outputs": [],
   "source": [
    "dataset = minmax_scale(dataset)"
   ]
  },
  {
   "cell_type": "code",
   "execution_count": 46,
   "metadata": {},
   "outputs": [],
   "source": [
    "def SVM_multiclass_Accuracy():\n",
    "    x_train, x_test, y_train, y_test = model_selection.train_test_split(dataset, y, train_size=0.8,stratify=y)\n",
    "    svm_multiclass = SVC(kernel='poly',C=0.1)\n",
    "    clf = svm_multiclass.fit(x_train,y_train)\n",
    "    prediction = clf.predict(x_train)\n",
    "    print(\"Accuratezza Training set di SVM con kernel polinomiale\" + \" con coefficiente \"+ \"1\" + \" : \" +str(accuracy_score(y_train,prediction)))\n",
    "    prediction2 = clf.predict(x_test)\n",
    "    print(\"Accuratezza Test-set di SVM con kernel polinomiale \" + \" con coefficiente \"+ \"1\" + \" : \" +str(accuracy_score(y_test,prediction2)))"
   ]
  },
  {
   "cell_type": "code",
   "execution_count": 53,
   "metadata": {},
   "outputs": [],
   "source": [
    "def AdaBoost_AccuracyScore():\n",
    "    x_train, x_test, y_train, y_test = model_selection.train_test_split(dataset, y, train_size=0.8,stratify=y)\n",
    "    ada_multiclass = AdaBoostClassifier(n_estimators=80,learning_rate=0.1)\n",
    "    clf = ada_multiclass.fit(x_train, y_train)\n",
    "    prediction = clf.predict(x_train)\n",
    "    print(\"Accuratezza Training set di Adaboost con stimatori : \" + str(80) + \" con learning rate \" + str(0.1) + \" : \" + str(accuracy_score(y_train, prediction)))\n",
    "    prediction2 = clf.predict(x_test)\n",
    "    print(prediction2)\n",
    "    print(y_test)\n",
    "    print(\"Accuratezza Test-set di Adaboost con stimatori : \" + str(80) + \" con learning rate \" + str(0.1) + \" : \" + str(accuracy_score(y_test, prediction2)))"
   ]
  },
  {
   "cell_type": "code",
   "execution_count": 56,
   "metadata": {},
   "outputs": [],
   "source": [
    "def Convolutional_NN():\n",
    "    dataset = dataset.reshape((dataset.shape[0],50,1))\n",
    "    x_train, x_test, y_train, y_test = model_selection.train_test_split(dataset, y, train_size=0.8,\n",
    "                                                                               stratify=y)\n",
    "    model = tf.keras.Sequential()\n",
    "    model.add(tf.keras.layers.Conv1D(16, 2, padding='valid', activation='relu',input_shape=(50,1)))\n",
    "    model.add(tf.keras.layers.MaxPool1D(2))\n",
    "    model.add(tf.keras.layers.Conv1D(32, 2, activation='relu',padding='valid'))\n",
    "    model.add(tf.keras.layers.Dropout(0.5))\n",
    "    model.add(tf.keras.layers.Flatten())\n",
    "    model.add(tf.keras.layers.Dense(32,activation='relu',activity_regularizer=regularizers.l2(1e-5)))\n",
    "    model.add(tf.keras.layers.Dense(2,activity_regularizer=regularizers.l2(1e-5)))\n",
    "\n",
    "    model.compile(optimizer='adam',\n",
    "                  loss=tf.keras.losses.SparseCategoricalCrossentropy(from_logits=True),\n",
    "                  metrics=['accuracy'])\n",
    "    print(x_train.shape)\n",
    "    print(x_test.shape)\n",
    "    history = model.fit(x_train, y_train, epochs=100, verbose=1, validation_data=(x_test, y_test))\n",
    "\n",
    "    plt.plot(history.history[\"val_accuracy\"], label=\"Rete con 2 livelli convoluzionali\")\n",
    "    plt.title(\"Reti Neurali Convoluzionali\")\n",
    "    plt.legend()\n",
    "    plt.show()"
   ]
  },
  {
   "cell_type": "code",
   "execution_count": null,
   "metadata": {},
   "outputs": [],
   "source": []
  }
 ],
 "metadata": {
  "interpreter": {
   "hash": "05c8c9333da9480843ca1a6ac8676f614b9a000ebcdf097f84916accd2cb3b8d"
  },
  "kernelspec": {
   "display_name": "Python 3",
   "language": "python",
   "name": "python3"
  }
 },
 "nbformat": 4,
 "nbformat_minor": 2
}
